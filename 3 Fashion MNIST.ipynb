{
 "nbformat": 4,
 "nbformat_minor": 2,
 "metadata": {
  "language_info": {
   "name": "python",
   "codemirror_mode": {
    "name": "ipython",
    "version": 3
   },
   "version": "3.7.4-final"
  },
  "orig_nbformat": 2,
  "file_extension": ".py",
  "mimetype": "text/x-python",
  "name": "python",
  "npconvert_exporter": "python",
  "pygments_lexer": "ipython3",
  "version": 3,
  "kernelspec": {
   "name": "python37464bit43b0aca25f3a478a89236e706d769e39",
   "display_name": "Python 3.7.4 64-bit"
  }
 },
 "cells": [
  {
   "cell_type": "markdown",
   "execution_count": null,
   "metadata": {},
   "outputs": [],
   "source": [
    "# Fashion MNIST\n",
    "\n",
    "# Dupa descarcarea setului de date vedem ca este codat in forma ubyte\n",
    "         Folosim apoi urmatoarea functie pentru a citi datele si a le returna ca un tablou numpy"
   ]
  },
  {
   "cell_type": "code",
   "execution_count": 34,
   "metadata": {},
   "outputs": [],
   "source": [
    "import struct\n",
    "import numpy as np\n",
    "\n",
    "def read_idx(filename):\n",
    "    \"\"\"Credit: https://gist.github.com/tylerneylon\"\"\" \n",
    "    with open(filename, 'rb') as f:\n",
    "        zero, data_type, dims = struct.unpack('>HBB', f.read(4))\n",
    "        shape = tuple(struct.unpack('>I', f.read(4))[0] for d in range(dims))\n",
    "        return np.frombuffer(f.read(), dtype=np.uint8).reshape(shape)"
   ]
  },
  {
   "cell_type": "markdown",
   "execution_count": null,
   "metadata": {},
   "outputs": [],
   "source": [
    "# Folosim functia pentru a extrage baza de date pentru instruire si testare"
   ]
  },
  {
   "cell_type": "code",
   "execution_count": 35,
   "metadata": {},
   "outputs": [],
   "source": [
    "x_train = read_idx(\"c:/Users/Harum/Documents/13/dataset/train-images-idx3-ubyte\")\n",
    "y_train = read_idx(\"c:/Users/Harum/Documents/13/dataset/train-labels-idx1-ubyte\")\n",
    "x_test = read_idx(\"c:/Users/Harum/Documents/13/dataset/t10k-images-idx3-ubyte\")\n",
    "y_test = read_idx(\"c:/Users/Harum/Documents/13/dataset/t10k-labels-idx1-ubyte\")"
   ]
  },
  {
   "cell_type": "markdown",
   "execution_count": null,
   "metadata": {},
   "outputs": [],
   "source": [
    "# Inspecare baza de date\n"
   ]
  },
  {
   "cell_type": "code",
   "execution_count": 36,
   "metadata": {},
   "outputs": [
    {
     "name": "stdout",
     "output_type": "stream",
     "text": "Initial shape or dimensions of x_train (60000, 28, 28)\nNumber of samples in our training data: 60000\nNumber of labels in our training data: 60000\nNumber of samples in our test data: 10000\nNumber of labels in our test data: 10000\n\nDimensions of x_train:(28, 28)\nLabels in x_train:(60000,)\n\nDimensions of x_test:(28, 28)\nLabels in y_test:(10000,)\n"
    }
   ],
   "source": [
    "# printing the number of samples in x_train, x_test, y_train, y_test\n",
    "print(\"Initial shape or dimensions of x_train\", str(x_train.shape))\n",
    "\n",
    "print (\"Number of samples in our training data: \" + str(len(x_train)))\n",
    "print (\"Number of labels in our training data: \" + str(len(y_train)))\n",
    "print (\"Number of samples in our test data: \" + str(len(x_test)))\n",
    "print (\"Number of labels in our test data: \" + str(len(y_test)))\n",
    "print()\n",
    "print (\"Dimensions of x_train:\" + str(x_train[0].shape))\n",
    "print (\"Labels in x_train:\" + str(y_train.shape))\n",
    "print()\n",
    "print (\"Dimensions of x_test:\" + str(x_test[0].shape))\n",
    "print (\"Labels in y_test:\" + str(y_test.shape))"
   ]
  },
  {
   "cell_type": "markdown",
   "execution_count": null,
   "metadata": {},
   "outputs": [],
   "source": [
    "# Vizualizați câteva exemple de imagini"
   ]
  },
  {
   "cell_type": "code",
   "execution_count": 37,
   "metadata": {},
   "outputs": [
    {
     "data": {
      "image/png": "[encoded data removed]",
      "image/svg+xml": "<?xml version=\"1.0\" encoding=\"utf-8\" standalone=\"no\"?>\r\n<!DOCTYPE svg PUBLIC \"-//W3C//DTD SVG 1.1//EN\"\r\n  \"http://www.w3.org/Graphics/SVG/1.1/DTD/svg11.dtd\">\r\n<!-- Created with matplotlib (https://matplotlib.org/) -->\r\n<svg height=\"174.431798pt\" version=\"1.1\" viewBox=\"0 0 334.407353 174.431798\" width=\"334.407353pt\" xmlns=\"http://www.w3.org/2000/svg\" xmlns:xlink=\"http://www.w3.org/1999/xlink\">\r\n <defs>\r\n  <style type=\"text/css\">\r\n*{stroke-linecap:butt;stroke-linejoin:round;}\r\n  </style>\r\n </defs>\r\n <g id=\"figure_1\">\r\n  <g id=\"patch_1\">\r\n   <path d=\"M 0 174.431798 \r\nL 334.407353 174.431798 \r\nL 334.407353 0 \r\nL 0 0 \r\nz\r\n\" style=\"fill:none;\"/>\r\n  </g>\r\n  <g id=\"axes_1\">\r\n   <g id=\"patch_2\">\r\n    <path d=\"M 26.925 73.810143 \r\nL 90.877941 73.810143 \r\nL 90.877941 9.857202 \r\nL 26.925 9.857202 \r\nz\r\n\" style=\"fill:#ffffff;\"/>\r\n   </g>\r\n   <g clip-path=\"url(#p490c8e1561)\">\r\n    <image height=\"64\" id=\"image7d62478afa\" transform=\"scale(1 -1)translate(0 -64)\" width=\"64\" x=\"26.925\" xlink:href=\"data:image/png;base64,\r\niVBORw0KGgoAAAANSUhEUgAAAEAAAABACAYAAACqaXHeAAAABHNCSVQICAgIfAhkiAAABixJREFUeJztm8tLVV0Yxn9m2VXTSiUrtAgxJIxIUGwcSPQ/CCI4aBYE9ccIDqKBEDhpoIMGOUgkiCSoQURe0S5eumpW30Cetd6zzjrbvb9hez+Ts89e795n7/U+73WtUwX8ZQ8cOHAAgEuXLrlzGxsbALx//75Mvr+/H4Du7m4A2traADh06JCTqa+vB+D06dMA/Pr1y41tbW0B8Pv3bwC+fPkCwPz8vJO5e/cuAF+/fgXg6tWrbuz79+8AvHnzBoC/fyu/4r6KIznB/jRCt2/fBuDevXvuXGNjIwBVVVUATExMuLHz588D8O3bN8Br22pZbPj06RMAf/788Q+1f/exampqAKiurgbgxo0bTmbfvl3dDQ8PAzA+Pu7GdnZ2ALh//z4ADx8+rPhuuWdA7icglQkcPHgQgM+fP7tzofOzDk60lhP78eMHUGoCDQ0NgKerhSgvs9Dnq1evnMzi4mLJNXKc4E3POs1KKBiQRkiObnt7252TxpubmwHv+ADm5uYAr0ldr0/wGpN2xRZ7TuyQwzt8+LCT6e3tBeDKlSu7L7Lfv4rkL1y4AMDU1FTFdysYkEZI2rZ2durUKQBOnjwJwNOnT91YT08PAMvLy4BPpKyfEBukLX1aiEHyHUePHnVjz58/B7wvsWNra2uAT7KSUDAgjZBs0qaUsjmlqY8ePXJjt27dAryntkmOoMgi27fRQOzQdWKAtA0wPT0NQEtLS8k19p7Hjh3b891yz4DcT0AqE1BiYR2VaHb9+nUAHj9+7MaUwwuipw11MqeYeYQmoN+1oe7Zs2cA3Llzp+zeMYdaCQUD0ggpAbIzK8ekHkGs4lIYk7atE7Uaq3Rvhc+YzMePHwHo6Ogou7cYFEuzQxQMSCO0ubm5K2xsUDN+7ty5MnlpN7TFpGTHMkLn9Hthamxx8eLFkuex1+m5k5B7BuR+AlKZgLI9m22JjpcvXy6T//nzJ+CpLFkb8sIK0dJbYVTOUPex/QihqakJ8M1R8CagvkQSCgakEVKb2Toxadn2AQQxJnRilkGCnJ8dCxMh1Q3r6+tORr0BMUBh0cqrE5WEggFphGI+QL0BtbylCfCJk0JTLNSFodImPfIH+j2NWY2GzLP9RvkQ6xcqoWBAGiHZl9Vg2K/r7Ox0YyqeYkVQiKSiSD5E2rUy6g3oeuufJCfmJiH3DMj9BKQyATU3raMR5UQzrQBDnM7gnaE9tvcUwuRIpmBNSY3X0NzssZqjSSgYkEZIewGsBqQVaenatWtuLNRcUkcoTHrssVim70rIwK9Yf/jwoeR+Vj62dyFEwYAswjb50MKjkh5bFClJSmJAOGYZEGo+Vky1trYCfhnOjp05cwYoEqFUyP0EZDIBG1aUbysMqjUF8O7dO6C8GRoLVbGVZ1VzYRVpw+jKykrZPYVY36ASCgZkEbYzG258qq2tdWPSYOjMLEJ2xHJ5afzIkSMl36G8R2GvV3KUBgUDsgjb6koMkAZtRyas3mJ2qnMx/xBubFT3yaKurg6Ip8JpeoFCwYAswktLS+44XBCxaWpo8+FuLyhf/LBdYZ0LewX2N1ZXVwHfG7SLNrZ3uBdyz4DcT0AmE7DVVV9fH+AdlM3zw/w+5gSFWLsspH5sk5WqQDljux0m3ESZhIIBWYRVeVmo4rJJipKS2KKHEKbCsWUzMUH3iW2GVBhUWASYmZlJ/U4FA7II25lVshMuYEJcqyF03fHjx4HS5Edale3H9hvoWEWU3cQ5OTmZ+p1yz4DcT0AmE3jx4oU71h+S2tvbgdJaQHQO29mWwgppCmcnTpxwY8rulNGF+wzsb6j99eTJEzcWc9aVkHsGVJHib3OxfF1/mhoZGQH83nzw/QA5KOXw1tFpd7e0bTtCasOH97OJkJ5FjnlgYKDsuWOr0iEKBpCCAUKsayPYpbHBwUEAbt68CfjNlK9fv3YyCn9nz54FStf+FxYWAK9laXBsbMzJPHjwAIjbe5hIJb7TnhL/ODIxwCKp31cJs7Oz7lgLG0ql1fcDz4auri7A1/5pnifrM+WeAbmfgEyJkEVY69tKLbbmDzA0NOSOR0dHAXj79i1QGuJevnwJlFM/VgvIQWahfck9/9dV/xD+A5xlNlNqFwxUAAAAAElFTkSuQmCC\" y=\"-9.810143\"/>\r\n   </g>\r\n   <g id=\"matplotlib.axis_1\">\r\n    <g id=\"xtick_1\">\r\n     <g id=\"line2d_1\">\r\n      <defs>\r\n       <path d=\"M 0 0 \r\nL 0 3.5 \r\n\" id=\"m124e0114a6\" style=\"stroke:#000000;stroke-width:0.8;\"/>\r\n      </defs>\r\n      <g>\r\n       <use style=\"stroke:#000000;stroke-width:0.8;\" x=\"28.067017\" xlink:href=\"#m124e0114a6\" y=\"73.810143\"/>\r\n      </g>\r\n     </g>\r\n     <g id=\"text_1\">\r\n      <!-- 0 -->\r\n      <defs>\r\n       <path d=\"M 31.78125 66.40625 \r\nQ 24.171875 66.40625 20.328125 58.90625 \r\nQ 16.5 51.421875 16.5 36.375 \r\nQ 16.5 21.390625 20.328125 13.890625 \r\nQ 24.171875 6.390625 31.78125 6.390625 \r\nQ 39.453125 6.390625 43.28125 13.890625 \r\nQ 47.125 21.390625 47.125 36.375 \r\nQ 47.125 51.421875 43.28125 58.90625 \r\nQ 39.453125 66.40625 31.78125 66.40625 \r\nz\r\nM 31.78125 74.21875 \r\nQ 44.046875 74.21875 50.515625 64.515625 \r\nQ 56.984375 54.828125 56.984375 36.375 \r\nQ 56.984375 17.96875 50.515625 8.265625 \r\nQ 44.046875 -1.421875 31.78125 -1.421875 \r\nQ 19.53125 -1.421875 13.0625 8.265625 \r\nQ 6.59375 17.96875 6.59375 36.375 \r\nQ 6.59375 54.828125 13.0625 64.515625 \r\nQ 19.53125 74.21875 31.78125 74.21875 \r\nz\r\n\" id=\"DejaVuSans-48\"/>\r\n      </defs>\r\n      <g transform=\"translate(24.885767 88.408581)scale(0.1 -0.1)\">\r\n       <use xlink:href=\"#DejaVuSans-48\"/>\r\n      </g>\r\n     </g>\r\n    </g>\r\n    <g id=\"xtick_2\">\r\n     <g id=\"line2d_2\">\r\n      <g>\r\n       <use style=\"stroke:#000000;stroke-width:0.8;\" x=\"73.747689\" xlink:href=\"#m124e0114a6\" y=\"73.810143\"/>\r\n      </g>\r\n     </g>\r\n     <g id=\"text_2\">\r\n      <!-- 20 -->\r\n      <defs>\r\n       <path d=\"M 19.1875 8.296875 \r\nL 53.609375 8.296875 \r\nL 53.609375 0 \r\nL 7.328125 0 \r\nL 7.328125 8.296875 \r\nQ 12.9375 14.109375 22.625 23.890625 \r\nQ 32.328125 33.6875 34.8125 36.53125 \r\nQ 39.546875 41.84375 41.421875 45.53125 \r\nQ 43.3125 49.21875 43.3125 52.78125 \r\nQ 43.3125 58.59375 39.234375 62.25 \r\nQ 35.15625 65.921875 28.609375 65.921875 \r\nQ 23.96875 65.921875 18.8125 64.3125 \r\nQ 13.671875 62.703125 7.8125 59.421875 \r\nL 7.8125 69.390625 \r\nQ 13.765625 71.78125 18.9375 73 \r\nQ 24.125 74.21875 28.421875 74.21875 \r\nQ 39.75 74.21875 46.484375 68.546875 \r\nQ 53.21875 62.890625 53.21875 53.421875 \r\nQ 53.21875 48.921875 51.53125 44.890625 \r\nQ 49.859375 40.875 45.40625 35.40625 \r\nQ 44.1875 33.984375 37.640625 27.21875 \r\nQ 31.109375 20.453125 19.1875 8.296875 \r\nz\r\n\" id=\"DejaVuSans-50\"/>\r\n      </defs>\r\n      <g transform=\"translate(67.385189 88.408581)scale(0.1 -0.1)\">\r\n       <use xlink:href=\"#DejaVuSans-50\"/>\r\n       <use x=\"63.623047\" xlink:href=\"#DejaVuSans-48\"/>\r\n      </g>\r\n     </g>\r\n    </g>\r\n   </g>\r\n   <g id=\"matplotlib.axis_2\">\r\n    <g id=\"ytick_1\">\r\n     <g id=\"line2d_3\">\r\n      <defs>\r\n       <path d=\"M 0 0 \r\nL -3.5 0 \r\n\" id=\"mad34335dbb\" style=\"stroke:#000000;stroke-width:0.8;\"/>\r\n      </defs>\r\n      <g>\r\n       <use style=\"stroke:#000000;stroke-width:0.8;\" x=\"26.925\" xlink:href=\"#mad34335dbb\" y=\"10.999219\"/>\r\n      </g>\r\n     </g>\r\n     <g id=\"text_3\">\r\n      <!-- 0 -->\r\n      <g transform=\"translate(13.5625 14.798438)scale(0.1 -0.1)\">\r\n       <use xlink:href=\"#DejaVuSans-48\"/>\r\n      </g>\r\n     </g>\r\n    </g>\r\n    <g id=\"ytick_2\">\r\n     <g id=\"line2d_4\">\r\n      <g>\r\n       <use style=\"stroke:#000000;stroke-width:0.8;\" x=\"26.925\" xlink:href=\"#mad34335dbb\" y=\"33.839555\"/>\r\n      </g>\r\n     </g>\r\n     <g id=\"text_4\">\r\n      <!-- 10 -->\r\n      <defs>\r\n       <path d=\"M 12.40625 8.296875 \r\nL 28.515625 8.296875 \r\nL 28.515625 63.921875 \r\nL 10.984375 60.40625 \r\nL 10.984375 69.390625 \r\nL 28.421875 72.90625 \r\nL 38.28125 72.90625 \r\nL 38.28125 8.296875 \r\nL 54.390625 8.296875 \r\nL 54.390625 0 \r\nL 12.40625 0 \r\nz\r\n\" id=\"DejaVuSans-49\"/>\r\n      </defs>\r\n      <g transform=\"translate(7.2 37.638774)scale(0.1 -0.1)\">\r\n       <use xlink:href=\"#DejaVuSans-49\"/>\r\n       <use x=\"63.623047\" xlink:href=\"#DejaVuSans-48\"/>\r\n      </g>\r\n     </g>\r\n    </g>\r\n    <g id=\"ytick_3\">\r\n     <g id=\"line2d_5\">\r\n      <g>\r\n       <use style=\"stroke:#000000;stroke-width:0.8;\" x=\"26.925\" xlink:href=\"#mad34335dbb\" y=\"56.679891\"/>\r\n      </g>\r\n     </g>\r\n     <g id=\"text_5\">\r\n      <!-- 20 -->\r\n      <g transform=\"translate(7.2 60.47911)scale(0.1 -0.1)\">\r\n       <use xlink:href=\"#DejaVuSans-50\"/>\r\n       <use x=\"63.623047\" xlink:href=\"#DejaVuSans-48\"/>\r\n      </g>\r\n     </g>\r\n    </g>\r\n   </g>\r\n   <g id=\"patch_3\">\r\n    <path d=\"M 26.925 73.810143 \r\nL 26.925 9.857202 \r\n\" style=\"fill:none;stroke:#000000;stroke-linecap:square;stroke-linejoin:miter;stroke-width:0.8;\"/>\r\n   </g>\r\n   <g id=\"patch_4\">\r\n    <path d=\"M 90.877941 73.810143 \r\nL 90.877941 9.857202 \r\n\" style=\"fill:none;stroke:#000000;stroke-linecap:square;stroke-linejoin:miter;stroke-width:0.8;\"/>\r\n   </g>\r\n   <g id=\"patch_5\">\r\n    <path d=\"M 26.925 73.810143 \r\nL 90.877941 73.810143 \r\n\" style=\"fill:none;stroke:#000000;stroke-linecap:square;stroke-linejoin:miter;stroke-width:0.8;\"/>\r\n   </g>\r\n   <g id=\"patch_6\">\r\n    <path d=\"M 26.925 9.857202 \r\nL 90.877941 9.857202 \r\n\" style=\"fill:none;stroke:#000000;stroke-linecap:square;stroke-linejoin:miter;stroke-width:0.8;\"/>\r\n   </g>\r\n  </g>\r\n  <g id=\"axes_2\">\r\n   <g id=\"patch_7\">\r\n    <path d=\"M 145.089706 73.810143 \r\nL 209.042647 73.810143 \r\nL 209.042647 9.857202 \r\nL 145.089706 9.857202 \r\nz\r\n\" style=\"fill:#ffffff;\"/>\r\n   </g>\r\n   <g clip-path=\"url(#p71a7dc7ea8)\">\r\n    <image height=\"64\" id=\"imagecee66860a6\" transform=\"scale(1 -1)translate(0 -64)\" width=\"64\" x=\"145.089706\" xlink:href=\"data:image/png;base64,\r\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\" y=\"-9.810143\"/>\r\n   </g>\r\n   <g id=\"matplotlib.axis_3\">\r\n    <g id=\"xtick_3\">\r\n     <g id=\"line2d_6\">\r\n      <g>\r\n       <use style=\"stroke:#000000;stroke-width:0.8;\" x=\"146.231723\" xlink:href=\"#m124e0114a6\" y=\"73.810143\"/>\r\n      </g>\r\n     </g>\r\n     <g id=\"text_6\">\r\n      <!-- 0 -->\r\n      <g transform=\"translate(143.050473 88.408581)scale(0.1 -0.1)\">\r\n       <use xlink:href=\"#DejaVuSans-48\"/>\r\n      </g>\r\n     </g>\r\n    </g>\r\n    <g id=\"xtick_4\">\r\n     <g id=\"line2d_7\">\r\n      <g>\r\n       <use style=\"stroke:#000000;stroke-width:0.8;\" x=\"191.912395\" xlink:href=\"#m124e0114a6\" y=\"73.810143\"/>\r\n      </g>\r\n     </g>\r\n     <g id=\"text_7\">\r\n      <!-- 20 -->\r\n      <g transform=\"translate(185.549895 88.408581)scale(0.1 -0.1)\">\r\n       <use xlink:href=\"#DejaVuSans-50\"/>\r\n       <use x=\"63.623047\" xlink:href=\"#DejaVuSans-48\"/>\r\n      </g>\r\n     </g>\r\n    </g>\r\n   </g>\r\n   <g id=\"matplotlib.axis_4\">\r\n    <g id=\"ytick_4\">\r\n     <g id=\"line2d_8\">\r\n      <g>\r\n       <use style=\"stroke:#000000;stroke-width:0.8;\" x=\"145.089706\" xlink:href=\"#mad34335dbb\" y=\"10.999219\"/>\r\n      </g>\r\n     </g>\r\n     <g id=\"text_8\">\r\n      <!-- 0 -->\r\n      <g transform=\"translate(131.727206 14.798438)scale(0.1 -0.1)\">\r\n       <use xlink:href=\"#DejaVuSans-48\"/>\r\n      </g>\r\n     </g>\r\n    </g>\r\n    <g id=\"ytick_5\">\r\n     <g id=\"line2d_9\">\r\n      <g>\r\n       <use style=\"stroke:#000000;stroke-width:0.8;\" x=\"145.089706\" xlink:href=\"#mad34335dbb\" y=\"33.839555\"/>\r\n      </g>\r\n     </g>\r\n     <g id=\"text_9\">\r\n      <!-- 10 -->\r\n      <g transform=\"translate(125.364706 37.638774)scale(0.1 -0.1)\">\r\n       <use xlink:href=\"#DejaVuSans-49\"/>\r\n       <use x=\"63.623047\" xlink:href=\"#DejaVuSans-48\"/>\r\n      </g>\r\n     </g>\r\n    </g>\r\n    <g id=\"ytick_6\">\r\n     <g id=\"line2d_10\">\r\n      <g>\r\n       <use style=\"stroke:#000000;stroke-width:0.8;\" x=\"145.089706\" xlink:href=\"#mad34335dbb\" y=\"56.679891\"/>\r\n      </g>\r\n     </g>\r\n     <g id=\"text_10\">\r\n      <!-- 20 -->\r\n      <g transform=\"translate(125.364706 60.47911)scale(0.1 -0.1)\">\r\n       <use xlink:href=\"#DejaVuSans-50\"/>\r\n       <use x=\"63.623047\" xlink:href=\"#DejaVuSans-48\"/>\r\n      </g>\r\n     </g>\r\n    </g>\r\n   </g>\r\n   <g id=\"patch_8\">\r\n    <path d=\"M 145.089706 73.810143 \r\nL 145.089706 9.857202 \r\n\" style=\"fill:none;stroke:#000000;stroke-linecap:square;stroke-linejoin:miter;stroke-width:0.8;\"/>\r\n   </g>\r\n   <g id=\"patch_9\">\r\n    <path d=\"M 209.042647 73.810143 \r\nL 209.042647 9.857202 \r\n\" style=\"fill:none;stroke:#000000;stroke-linecap:square;stroke-linejoin:miter;stroke-width:0.8;\"/>\r\n   </g>\r\n   <g id=\"patch_10\">\r\n    <path d=\"M 145.089706 73.810143 \r\nL 209.042647 73.810143 \r\n\" style=\"fill:none;stroke:#000000;stroke-linecap:square;stroke-linejoin:miter;stroke-width:0.8;\"/>\r\n   </g>\r\n   <g id=\"patch_11\">\r\n    <path d=\"M 145.089706 9.857202 \r\nL 209.042647 9.857202 \r\n\" style=\"fill:none;stroke:#000000;stroke-linecap:square;stroke-linejoin:miter;stroke-width:0.8;\"/>\r\n   </g>\r\n  </g>\r\n  <g id=\"axes_3\">\r\n   <g id=\"patch_12\">\r\n    <path d=\"M 263.254412 73.810143 \r\nL 327.207353 73.810143 \r\nL 327.207353 9.857202 \r\nL 263.254412 9.857202 \r\nz\r\n\" style=\"fill:#ffffff;\"/>\r\n   </g>\r\n   <g clip-path=\"url(#pc0043df49c)\">\r\n    <image height=\"64\" id=\"image7bf9243c69\" transform=\"scale(1 -1)translate(0 -64)\" width=\"64\" x=\"263.254412\" xlink:href=\"data:image/png;base64,\r\niVBORw0KGgoAAAANSUhEUgAAAEAAAABACAYAAACqaXHeAAAABHNCSVQICAgIfAhkiAAABXJJREFUeJztmktIVV0Ux39XTe2pdkmzpBJqIKhEDw17WGqEIQRNGphNtBAHTmwgNGrQOJrXoHKgRK9hUzEIBxXoQLO0IEIKtczsoek3sP/e+9x7uml8Hwe+c9bEc/da5+x11vqvx17HGLBIiCktaAWCpsgAQSsQNEUGCFqBoCkyQNAKBE2hN0BGKmYsFgNg1apVAKxevdrw1q5d6+EtLCwk3b+4uNRjpaene54HMDc357tX4vWfSHtkZCS/inT6+fMnAJ8/fza86elpIEIAsczMzEWADRs2mEXX02A9MjMzY9ZkzURPuvLyTlCUqEdWVpbhXb58GYgQEBkgFo/HF8EL18nJScAmL/E2bdpkZHRdUFAAwJcvXwwvJycHgOLiYsCGy/fv341MWlqa5775+fkk3o8fP5aU/AVlv+Qo3XSPe58S3YcPHzx/XR0jBPBrHrBx40azWFJSAtjEKGsVFhYamcHBQQBOnDgBwM6dOw3v4sWLAFRVVQFQXV0NwK5du4yMEq1KlZtghQolLSHRTWIqv34lVmVPSMjOzk568YcPHwIRAshobm4GIDc31yy+ePECsBaUt58/f25kXr58CcCWLVsAKC8vN7za2lrAemJsbAywXgMbu8oTs7Ozhidvfvv2DbCed3OIcob2cNGR2BS9e/fOsydAPB4HIgREBjBJcMeOHWZx7969gIVnXl4e4O0WdT0wMADAvXv3DO/KlSuALZV3794FvKXu0aNHALS3twNw5swZw1MIKsH50cePHwGYmpoCvGUwMzMTgHXr1gG2HLpl/OnTp0v3/XaHkJDJFq9fv8bv2iX3jFBTUwPA8ePHAWhsbDS8GzduALB161YAysrKADh79qyR+fr1KwD9/f0A1NXVGZ6SoBAgb8uzLi8/Px/wnkmUGCWj3+79b9++BSIEEEtPT09qhRVP8oTfiU904MABAJqamsyacoY89+bNG8DGJMC2bdsAePDgAWDbb7C54vr16wCMj48D3lZWJVIlz322Gh/xRkdHAdi9e7eR6ejoWHrX375ZSMhUgZRCKQ4hflRZWQlAS0sLYJslN7coBouKigCbSwCuXr0KwLNnzwDo6ekB4NWrV0ZGcS1UqGkDi0A1XhMTE4C3WTt8+DAQISAywIpCwIW94JUqQao/r6+vB+DgwYOGp6SlZ7tD1Zs3bwJw/vx5AI4dOwZ4k6BOjNLDPUvoZPnp0ycA1q9fD8DmzZuNzJEjR4AIActDQGJDAcmocFtRrSUmykOHDpnrtrY2j4zbpg4PDwPw5MkTwJbIa9euGRm14IltL1hUqgyLVDoBzp07t6S33wuHiVJ+GBHJ835e9vudeIhRY9PX12fW5PGGhgbAeh1g+/btAJw+fRqwLXR3d7eROXXqFABDQ0NJe2o/5ZU1a9b46gURAiIDLCsERG6pSuwO3RBQyKTqFu/fvw/YUnny5EnDU9J7/PgxYLs8t5NTOL5//x7wjttUIgV5JUiFi0sRAv72xlTeXck3QSU2dyJVUVEBWA9qQtXZ2WlkNHpXotSEB+zZQ2VPSdH9eCMKPQKW1Qj9F6QGRvG9Z88ew7t06RJgc0lpaSkAIyMjRkZl8Pbt24D9fwWw+UB/tZdaYoD9+/cDEQKCQ0Aq0hxB0yaRpkdgm6XW1lbAogTgwoULgJ0n6OOs22yJQo+A0Bsg8BDwmyvoa3RXVxdgGxiN0sGeJjVSc096K6HQI+CvG6F/i/wmSprk3LlzB7CNzb59+4zM0aNHgdSeV7vs15iZOcZf6Py/osBzwHL+pU4fSG7dumXWent7fZ/zp2clUugREHoDBB4CQVPoERAZIGgFgqbIAEErEDRFBghagaApMkDQCgRNoTfAP+C2F62UpWfrAAAAAElFTkSuQmCC\" y=\"-9.810143\"/>\r\n   </g>\r\n   <g id=\"matplotlib.axis_5\">\r\n    <g id=\"xtick_5\">\r\n     <g id=\"line2d_11\">\r\n      <g>\r\n       <use style=\"stroke:#000000;stroke-width:0.8;\" x=\"264.396429\" xlink:href=\"#m124e0114a6\" y=\"73.810143\"/>\r\n      </g>\r\n     </g>\r\n     <g id=\"text_11\">\r\n      <!-- 0 -->\r\n      <g transform=\"translate(261.215179 88.408581)scale(0.1 -0.1)\">\r\n       <use xlink:href=\"#DejaVuSans-48\"/>\r\n      </g>\r\n     </g>\r\n    </g>\r\n    <g id=\"xtick_6\">\r\n     <g id=\"line2d_12\">\r\n      <g>\r\n       <use style=\"stroke:#000000;stroke-width:0.8;\" x=\"310.077101\" xlink:href=\"#m124e0114a6\" y=\"73.810143\"/>\r\n      </g>\r\n     </g>\r\n     <g id=\"text_12\">\r\n      <!-- 20 -->\r\n      <g transform=\"translate(303.714601 88.408581)scale(0.1 -0.1)\">\r\n       <use xlink:href=\"#DejaVuSans-50\"/>\r\n       <use x=\"63.623047\" xlink:href=\"#DejaVuSans-48\"/>\r\n      </g>\r\n     </g>\r\n    </g>\r\n   </g>\r\n   <g id=\"matplotlib.axis_6\">\r\n    <g id=\"ytick_7\">\r\n     <g id=\"line2d_13\">\r\n      <g>\r\n       <use style=\"stroke:#000000;stroke-width:0.8;\" x=\"263.254412\" xlink:href=\"#mad34335dbb\" y=\"10.999219\"/>\r\n      </g>\r\n     </g>\r\n     <g id=\"text_13\">\r\n      <!-- 0 -->\r\n      <g transform=\"translate(249.891912 14.798438)scale(0.1 -0.1)\">\r\n       <use xlink:href=\"#DejaVuSans-48\"/>\r\n      </g>\r\n     </g>\r\n    </g>\r\n    <g id=\"ytick_8\">\r\n     <g id=\"line2d_14\">\r\n      <g>\r\n       <use style=\"stroke:#000000;stroke-width:0.8;\" x=\"263.254412\" xlink:href=\"#mad34335dbb\" y=\"33.839555\"/>\r\n      </g>\r\n     </g>\r\n     <g id=\"text_14\">\r\n      <!-- 10 -->\r\n      <g transform=\"translate(243.529412 37.638774)scale(0.1 -0.1)\">\r\n       <use xlink:href=\"#DejaVuSans-49\"/>\r\n       <use x=\"63.623047\" xlink:href=\"#DejaVuSans-48\"/>\r\n      </g>\r\n     </g>\r\n    </g>\r\n    <g id=\"ytick_9\">\r\n     <g id=\"line2d_15\">\r\n      <g>\r\n       <use style=\"stroke:#000000;stroke-width:0.8;\" x=\"263.254412\" xlink:href=\"#mad34335dbb\" y=\"56.679891\"/>\r\n      </g>\r\n     </g>\r\n     <g id=\"text_15\">\r\n      <!-- 20 -->\r\n      <g transform=\"translate(243.529412 60.47911)scale(0.1 -0.1)\">\r\n       <use xlink:href=\"#DejaVuSans-50\"/>\r\n       <use x=\"63.623047\" xlink:href=\"#DejaVuSans-48\"/>\r\n      </g>\r\n     </g>\r\n    </g>\r\n   </g>\r\n   <g id=\"patch_13\">\r\n    <path d=\"M 263.254412 73.810143 \r\nL 263.254412 9.857202 \r\n\" style=\"fill:none;stroke:#000000;stroke-linecap:square;stroke-linejoin:miter;stroke-width:0.8;\"/>\r\n   </g>\r\n   <g id=\"patch_14\">\r\n    <path d=\"M 327.207353 73.810143 \r\nL 327.207353 9.857202 \r\n\" style=\"fill:none;stroke:#000000;stroke-linecap:square;stroke-linejoin:miter;stroke-width:0.8;\"/>\r\n   </g>\r\n   <g id=\"patch_15\">\r\n    <path d=\"M 263.254412 73.810143 \r\nL 327.207353 73.810143 \r\n\" style=\"fill:none;stroke:#000000;stroke-linecap:square;stroke-linejoin:miter;stroke-width:0.8;\"/>\r\n   </g>\r\n   <g id=\"patch_16\">\r\n    <path d=\"M 263.254412 9.857202 \r\nL 327.207353 9.857202 \r\n\" style=\"fill:none;stroke:#000000;stroke-linecap:square;stroke-linejoin:miter;stroke-width:0.8;\"/>\r\n   </g>\r\n  </g>\r\n  <g id=\"axes_4\">\r\n   <g id=\"patch_17\">\r\n    <path d=\"M 26.925 150.553673 \r\nL 90.877941 150.553673 \r\nL 90.877941 86.600731 \r\nL 26.925 86.600731 \r\nz\r\n\" style=\"fill:#ffffff;\"/>\r\n   </g>\r\n   <g clip-path=\"url(#pb81218f8e0)\">\r\n    <image height=\"64\" id=\"image3606a901f3\" transform=\"scale(1 -1)translate(0 -64)\" width=\"64\" x=\"26.925\" xlink:href=\"data:image/png;base64,\r\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\" y=\"-86.553673\"/>\r\n   </g>\r\n   <g id=\"matplotlib.axis_7\">\r\n    <g id=\"xtick_7\">\r\n     <g id=\"line2d_16\">\r\n      <g>\r\n       <use style=\"stroke:#000000;stroke-width:0.8;\" x=\"28.067017\" xlink:href=\"#m124e0114a6\" y=\"150.553673\"/>\r\n      </g>\r\n     </g>\r\n     <g id=\"text_16\">\r\n      <!-- 0 -->\r\n      <g transform=\"translate(24.885767 165.15211)scale(0.1 -0.1)\">\r\n       <use xlink:href=\"#DejaVuSans-48\"/>\r\n      </g>\r\n     </g>\r\n    </g>\r\n    <g id=\"xtick_8\">\r\n     <g id=\"line2d_17\">\r\n      <g>\r\n       <use style=\"stroke:#000000;stroke-width:0.8;\" x=\"73.747689\" xlink:href=\"#m124e0114a6\" y=\"150.553673\"/>\r\n      </g>\r\n     </g>\r\n     <g id=\"text_17\">\r\n      <!-- 20 -->\r\n      <g transform=\"translate(67.385189 165.15211)scale(0.1 -0.1)\">\r\n       <use xlink:href=\"#DejaVuSans-50\"/>\r\n       <use x=\"63.623047\" xlink:href=\"#DejaVuSans-48\"/>\r\n      </g>\r\n     </g>\r\n    </g>\r\n   </g>\r\n   <g id=\"matplotlib.axis_8\">\r\n    <g id=\"ytick_10\">\r\n     <g id=\"line2d_18\">\r\n      <g>\r\n       <use style=\"stroke:#000000;stroke-width:0.8;\" x=\"26.925\" xlink:href=\"#mad34335dbb\" y=\"87.742748\"/>\r\n      </g>\r\n     </g>\r\n     <g id=\"text_18\">\r\n      <!-- 0 -->\r\n      <g transform=\"translate(13.5625 91.541967)scale(0.1 -0.1)\">\r\n       <use xlink:href=\"#DejaVuSans-48\"/>\r\n      </g>\r\n     </g>\r\n    </g>\r\n    <g id=\"ytick_11\">\r\n     <g id=\"line2d_19\">\r\n      <g>\r\n       <use style=\"stroke:#000000;stroke-width:0.8;\" x=\"26.925\" xlink:href=\"#mad34335dbb\" y=\"110.583084\"/>\r\n      </g>\r\n     </g>\r\n     <g id=\"text_19\">\r\n      <!-- 10 -->\r\n      <g transform=\"translate(7.2 114.382303)scale(0.1 -0.1)\">\r\n       <use xlink:href=\"#DejaVuSans-49\"/>\r\n       <use x=\"63.623047\" xlink:href=\"#DejaVuSans-48\"/>\r\n      </g>\r\n     </g>\r\n    </g>\r\n    <g id=\"ytick_12\">\r\n     <g id=\"line2d_20\">\r\n      <g>\r\n       <use style=\"stroke:#000000;stroke-width:0.8;\" x=\"26.925\" xlink:href=\"#mad34335dbb\" y=\"133.42342\"/>\r\n      </g>\r\n     </g>\r\n     <g id=\"text_20\">\r\n      <!-- 20 -->\r\n      <g transform=\"translate(7.2 137.222639)scale(0.1 -0.1)\">\r\n       <use xlink:href=\"#DejaVuSans-50\"/>\r\n       <use x=\"63.623047\" xlink:href=\"#DejaVuSans-48\"/>\r\n      </g>\r\n     </g>\r\n    </g>\r\n   </g>\r\n   <g id=\"patch_18\">\r\n    <path d=\"M 26.925 150.553673 \r\nL 26.925 86.600731 \r\n\" style=\"fill:none;stroke:#000000;stroke-linecap:square;stroke-linejoin:miter;stroke-width:0.8;\"/>\r\n   </g>\r\n   <g id=\"patch_19\">\r\n    <path d=\"M 90.877941 150.553673 \r\nL 90.877941 86.600731 \r\n\" style=\"fill:none;stroke:#000000;stroke-linecap:square;stroke-linejoin:miter;stroke-width:0.8;\"/>\r\n   </g>\r\n   <g id=\"patch_20\">\r\n    <path d=\"M 26.925 150.553673 \r\nL 90.877941 150.553673 \r\n\" style=\"fill:none;stroke:#000000;stroke-linecap:square;stroke-linejoin:miter;stroke-width:0.8;\"/>\r\n   </g>\r\n   <g id=\"patch_21\">\r\n    <path d=\"M 26.925 86.600731 \r\nL 90.877941 86.600731 \r\n\" style=\"fill:none;stroke:#000000;stroke-linecap:square;stroke-linejoin:miter;stroke-width:0.8;\"/>\r\n   </g>\r\n  </g>\r\n  <g id=\"axes_5\">\r\n   <g id=\"patch_22\">\r\n    <path d=\"M 145.089706 150.553673 \r\nL 209.042647 150.553673 \r\nL 209.042647 86.600731 \r\nL 145.089706 86.600731 \r\nz\r\n\" style=\"fill:#ffffff;\"/>\r\n   </g>\r\n   <g clip-path=\"url(#pb024be354e)\">\r\n    <image height=\"64\" id=\"image7a8f317d95\" transform=\"scale(1 -1)translate(0 -64)\" width=\"64\" x=\"145.089706\" xlink:href=\"data:image/png;base64,\r\niVBORw0KGgoAAAANSUhEUgAAAEAAAABACAYAAACqaXHeAAAABHNCSVQICAgIfAhkiAAABDlJREFUeJztmbsvdU0Uxn+H4xZC3IlECOKeUFG4NGoiRKIRgkohGhL+AhK1QqdRUWhIRKLQkAgRDY2KiEvc77e3OFkzs8/le79TfN+8efd+GsesNXues+ZZa83s4wN+cDFibBOwDS8AtgnYhhcA2wRswwuAbQK24QXANgHb8AJgm4BteAGwTcA2vADYJmAbXgBsE7ANfzTOeXl56nNsbCwAp6enAMTE6FgmJSU55n18fADg8/lC5r+/vwPw+fkZcV1zXvAaYouLi1M2v9/vWPft7S1k/uvra4B3xFVdAtcHQKVAeXm5GqyqqgIgLS0N0DI7OztTPvv7+wDMz88D0NLSomwi64SEBMd8kSZAVlYWAHNzcwDc398rW05ODgDb29uATjMzFYJTx5S5jInM5dnyv/nZ9QrwFRYW/gBkZGSoQYm4RE6ibe7A6OgoADMzMwAcHBwo2/PzM6Cj/PX1BTgLVXFxMQClpaUAjI+PK9vU1BQADw8PjvWlqIEuyDJmqkt4yvrn5+eALrwA3d3dgKcA/Onp6QC0tbWpwZSUFEDvUl1dHQD5+fnK5/v7G4CtrS0AHh8flU3yUVqj7E5BQYHyGRkZcTynp6dH2XZ3dwG9Y6mpqYBWAsDJyQmgFRAfHx/y5WR98cnOzla2zs7OgE/ILJfBL3k5NDSkBpOTkwFdA+7u7gDY29tTPpLnkm/mDsiOie3nJ/Dr2/LysvJZXV0FYHp6GtAqA5idnQWgoaEBgKurKwcv0B3q+PjYsYbpJz7C1ew0ogbXK8D1AfAR5tfh4eFhAOrr6wEoKysDQAqmCWlVZhG8vb0FoKioyOHb3NysPre2tgKwubkJwOTkpLLJupWVlYBuY9JOATIzM4HQOwnAzc2Ng6+kR0lJifJZX18HPAWEV0AkNDU1qc+Dg4OA3iXzICKt7enpCYCOjg7AWYSksC0tLQFwcXGhbNISZUx23jzIyHqJiYmOv+azRRUvLy8AVFRUKJ/FxUXAU0B4BUhLMw8ev4N5Gerr6wO0Sg4PDwHnLsuOraysANDV1RWyvrQvufubKpM6E+6YLQc5mS81pLq6WvlMTEwAngK8AERVBM3XXtJazBNYJEjBqampUWNSKOXeIK0L9H1eTpQib5kDcH19Dej2u7Ozo2zy3mJsbAzQKZCbm6t8+vv7A9/pt+z/ckT1UtTcgWCY6gj26+3tBZwHEbnzm7dQweXlJaDVIYethYUF5bO2tgboYhgO8o5jYGAA0DdIgKOjowDviLNdgqhqQLQQVfyTcuRw097ersZEFXJ0ltw1c/jfoLGxEdA3T3kLBLCxsRHgGNUT/0L8pwoIhnmUNS82kSBdo7a2FtDdxETwO4do4XoFuD4A/2sK/IlwvQK8ANgmYBteAGwTsA0vALYJ2IYXANsEbMMLgG0CtuEFwDYB2/ACYJuAbXgBsE3ANn4BETiFyOxX1fcAAAAASUVORK5CYII=\" y=\"-86.553673\"/>\r\n   </g>\r\n   <g id=\"matplotlib.axis_9\">\r\n    <g id=\"xtick_9\">\r\n     <g id=\"line2d_21\">\r\n      <g>\r\n       <use style=\"stroke:#000000;stroke-width:0.8;\" x=\"146.231723\" xlink:href=\"#m124e0114a6\" y=\"150.553673\"/>\r\n      </g>\r\n     </g>\r\n     <g id=\"text_21\">\r\n      <!-- 0 -->\r\n      <g transform=\"translate(143.050473 165.15211)scale(0.1 -0.1)\">\r\n       <use xlink:href=\"#DejaVuSans-48\"/>\r\n      </g>\r\n     </g>\r\n    </g>\r\n    <g id=\"xtick_10\">\r\n     <g id=\"line2d_22\">\r\n      <g>\r\n       <use style=\"stroke:#000000;stroke-width:0.8;\" x=\"191.912395\" xlink:href=\"#m124e0114a6\" y=\"150.553673\"/>\r\n      </g>\r\n     </g>\r\n     <g id=\"text_22\">\r\n      <!-- 20 -->\r\n      <g transform=\"translate(185.549895 165.15211)scale(0.1 -0.1)\">\r\n       <use xlink:href=\"#DejaVuSans-50\"/>\r\n       <use x=\"63.623047\" xlink:href=\"#DejaVuSans-48\"/>\r\n      </g>\r\n     </g>\r\n    </g>\r\n   </g>\r\n   <g id=\"matplotlib.axis_10\">\r\n    <g id=\"ytick_13\">\r\n     <g id=\"line2d_23\">\r\n      <g>\r\n       <use style=\"stroke:#000000;stroke-width:0.8;\" x=\"145.089706\" xlink:href=\"#mad34335dbb\" y=\"87.742748\"/>\r\n      </g>\r\n     </g>\r\n     <g id=\"text_23\">\r\n      <!-- 0 -->\r\n      <g transform=\"translate(131.727206 91.541967)scale(0.1 -0.1)\">\r\n       <use xlink:href=\"#DejaVuSans-48\"/>\r\n      </g>\r\n     </g>\r\n    </g>\r\n    <g id=\"ytick_14\">\r\n     <g id=\"line2d_24\">\r\n      <g>\r\n       <use style=\"stroke:#000000;stroke-width:0.8;\" x=\"145.089706\" xlink:href=\"#mad34335dbb\" y=\"110.583084\"/>\r\n      </g>\r\n     </g>\r\n     <g id=\"text_24\">\r\n      <!-- 10 -->\r\n      <g transform=\"translate(125.364706 114.382303)scale(0.1 -0.1)\">\r\n       <use xlink:href=\"#DejaVuSans-49\"/>\r\n       <use x=\"63.623047\" xlink:href=\"#DejaVuSans-48\"/>\r\n      </g>\r\n     </g>\r\n    </g>\r\n    <g id=\"ytick_15\">\r\n     <g id=\"line2d_25\">\r\n      <g>\r\n       <use style=\"stroke:#000000;stroke-width:0.8;\" x=\"145.089706\" xlink:href=\"#mad34335dbb\" y=\"133.42342\"/>\r\n      </g>\r\n     </g>\r\n     <g id=\"text_25\">\r\n      <!-- 20 -->\r\n      <g transform=\"translate(125.364706 137.222639)scale(0.1 -0.1)\">\r\n       <use xlink:href=\"#DejaVuSans-50\"/>\r\n       <use x=\"63.623047\" xlink:href=\"#DejaVuSans-48\"/>\r\n      </g>\r\n     </g>\r\n    </g>\r\n   </g>\r\n   <g id=\"patch_23\">\r\n    <path d=\"M 145.089706 150.553673 \r\nL 145.089706 86.600731 \r\n\" style=\"fill:none;stroke:#000000;stroke-linecap:square;stroke-linejoin:miter;stroke-width:0.8;\"/>\r\n   </g>\r\n   <g id=\"patch_24\">\r\n    <path d=\"M 209.042647 150.553673 \r\nL 209.042647 86.600731 \r\n\" style=\"fill:none;stroke:#000000;stroke-linecap:square;stroke-linejoin:miter;stroke-width:0.8;\"/>\r\n   </g>\r\n   <g id=\"patch_25\">\r\n    <path d=\"M 145.089706 150.553673 \r\nL 209.042647 150.553673 \r\n\" style=\"fill:none;stroke:#000000;stroke-linecap:square;stroke-linejoin:miter;stroke-width:0.8;\"/>\r\n   </g>\r\n   <g id=\"patch_26\">\r\n    <path d=\"M 145.089706 86.600731 \r\nL 209.042647 86.600731 \r\n\" style=\"fill:none;stroke:#000000;stroke-linecap:square;stroke-linejoin:miter;stroke-width:0.8;\"/>\r\n   </g>\r\n  </g>\r\n  <g id=\"axes_6\">\r\n   <g id=\"patch_27\">\r\n    <path d=\"M 263.254412 150.553673 \r\nL 327.207353 150.553673 \r\nL 327.207353 86.600731 \r\nL 263.254412 86.600731 \r\nz\r\n\" style=\"fill:#ffffff;\"/>\r\n   </g>\r\n   <g clip-path=\"url(#pd87bb4e6b5)\">\r\n    <image height=\"64\" id=\"image744dffdc9e\" transform=\"scale(1 -1)translate(0 -64)\" width=\"64\" x=\"263.254412\" xlink:href=\"data:image/png;base64,\r\niVBORw0KGgoAAAANSUhEUgAAAEAAAABACAYAAACqaXHeAAAABHNCSVQICAgIfAhkiAAABS5JREFUeJztmjlIJksQx3+un/eBZ6CIkaCJgcYbmKigCKYGRqZiYGamiWCqgrCLIAiKRkYLJiYKCm66wS54geKF931voP/u/mZG8fEeDLyZSnrsru4uq/5V1V39pQAvRJi+hC1A2BQrIGwBwqZYAWELEDbFCghbgLApVkDYAoRNkVdAQh9fvlhdPD8/A5CSkgJAb28vAPX19YansrISgIKCAt/86+trAM7OzgCYm5sDYHR09D8W/99T5BEQeQWk8HYbzMrKMp03NzcAjIyMANDd3Q3A0dGR4ZGbpKenJ81x15IrlJWVATA9PW149vf3k3i1HljXu7+/B+D8/BxIdjOvHKmpqaYvLy8viUdyT0xMmL7Nzc3XNX0rRowMAmRJsJpfXFwEoLq6Gki2svhfXl6SWpdcq0KyZWT5x8fHd+fJ4kKEu4d3bRcdT09PSa3+H7UAAwMDr/N8u0eMTBr0ahRgaGgIgG/fvgHJWtZ3IpHwzff6qjctApycnADByHkPVR/xCiUuSQ4hobi42IwdHBy88vhmRYwirwATBD+i379/A1BUVGT6rq6uAJt+srOzzZgCm2D58PAAWCi68+Q6QfAWfRRoRUEuLH656eHhoRlraGgAYgTYIBhEU1NTr0xvGry4uDBjaWlpSbyudWUNWV5IcFOeeNS688UfFNi8FMQjy2tN7ese9i4vL4EYARYBra2tplNpb21tDYCFhQUA2traDI9Sm6tVkQ4cSkNqXdR4b5xu6vT6+kdI0JiLIFlc6+Tk5ACwt7fnmx8jQB+Dg4Oms7+/H4Dv378D8PXrVwA6OzsNj+KBrO1aSZaWVWRt9yiqLOBtwVruMxkiiLSWkCB5dAFyKfIIiLwCEn19fQAsLy+bTkFftLS0BEBGRobp08FHMFVQBAt1QVEQdm+TSpFKse5tVCS3ct3DOyZyU6wgr8Cq+b9+/fKtEyOgvLwc8FdRgmhjY8N8l5aWAlbLFRUV/2hjWewz9QC1QTdOr5XBouP4+Biwqfrnz5++vWIEzMzMADA8PPwuU1NTEwArKyumr66uDrD+vrOzY8a8aUs+6VowKP2JhApvGnTRon0VS9y1lX6FasWXIJRGHgGRV4CpB7gpQi84Y2NjQPAJSuUtBRjVBwBOT09fF/ec812Y3t3dJfW5Y266BQt9N1VmZmYC1r3ctPje3UFu68odI4A3BIyPj5vO9vZ2wBYRJycnARsMAdbX1wFbZQl6WNHjhypJSksAJSUlgA1ibrVGwUu3OL0/CjXgT4NuGhefgqcCrWoAAC0tLa/ziTiZ22BXV5fpnJ+fB6xWdTRubGw0PPJTWVAtQG5uLmCtLH/Nz883PEpj3ic2sMfjj467Is1zx4QcxSX97ZblRTECgp6dZmdnAXs4KiwsBOxjAliLy8p6wARrXa2p+BD0tKYjtR5QwX8QUu3BRYT83PsM5o4pPmj/7e1tnwIij4DIKyAhmAa9Dvf09AD2dwLuAWV3dxewsHaDkGAtN9HBKKjspTfCoJue9lMQSxL8LVBq39vbW5/8micZ//z541snRoA+3IKll378+AFAc3Oz6VMdQTUC9zYojatVtaimpsbwKCV60yH4K0GqPrkI9L5Ku/OVvlUGV1CMK0IBFPg4GpQaAaqqqsx3R0cHALW1tQBsbW2ZMVnHe1dXOgWbttzjrcj7sCEkuI8nQoN4XAQrJesSp8fd1dVVwyPZIo+AyCvgU78P+D9T5BEQKyBsAcKmWAFhCxA2xQoIW4CwKVZA2AKETZFXwF+6yZ4n5gsSqQAAAABJRU5ErkJggg==\" y=\"-86.553673\"/>\r\n   </g>\r\n   <g id=\"matplotlib.axis_11\">\r\n    <g id=\"xtick_11\">\r\n     <g id=\"line2d_26\">\r\n      <g>\r\n       <use style=\"stroke:#000000;stroke-width:0.8;\" x=\"264.396429\" xlink:href=\"#m124e0114a6\" y=\"150.553673\"/>\r\n      </g>\r\n     </g>\r\n     <g id=\"text_26\">\r\n      <!-- 0 -->\r\n      <g transform=\"translate(261.215179 165.15211)scale(0.1 -0.1)\">\r\n       <use xlink:href=\"#DejaVuSans-48\"/>\r\n      </g>\r\n     </g>\r\n    </g>\r\n    <g id=\"xtick_12\">\r\n     <g id=\"line2d_27\">\r\n      <g>\r\n       <use style=\"stroke:#000000;stroke-width:0.8;\" x=\"310.077101\" xlink:href=\"#m124e0114a6\" y=\"150.553673\"/>\r\n      </g>\r\n     </g>\r\n     <g id=\"text_27\">\r\n      <!-- 20 -->\r\n      <g transform=\"translate(303.714601 165.15211)scale(0.1 -0.1)\">\r\n       <use xlink:href=\"#DejaVuSans-50\"/>\r\n       <use x=\"63.623047\" xlink:href=\"#DejaVuSans-48\"/>\r\n      </g>\r\n     </g>\r\n    </g>\r\n   </g>\r\n   <g id=\"matplotlib.axis_12\">\r\n    <g id=\"ytick_16\">\r\n     <g id=\"line2d_28\">\r\n      <g>\r\n       <use style=\"stroke:#000000;stroke-width:0.8;\" x=\"263.254412\" xlink:href=\"#mad34335dbb\" y=\"87.742748\"/>\r\n      </g>\r\n     </g>\r\n     <g id=\"text_28\">\r\n      <!-- 0 -->\r\n      <g transform=\"translate(249.891912 91.541967)scale(0.1 -0.1)\">\r\n       <use xlink:href=\"#DejaVuSans-48\"/>\r\n      </g>\r\n     </g>\r\n    </g>\r\n    <g id=\"ytick_17\">\r\n     <g id=\"line2d_29\">\r\n      <g>\r\n       <use style=\"stroke:#000000;stroke-width:0.8;\" x=\"263.254412\" xlink:href=\"#mad34335dbb\" y=\"110.583084\"/>\r\n      </g>\r\n     </g>\r\n     <g id=\"text_29\">\r\n      <!-- 10 -->\r\n      <g transform=\"translate(243.529412 114.382303)scale(0.1 -0.1)\">\r\n       <use xlink:href=\"#DejaVuSans-49\"/>\r\n       <use x=\"63.623047\" xlink:href=\"#DejaVuSans-48\"/>\r\n      </g>\r\n     </g>\r\n    </g>\r\n    <g id=\"ytick_18\">\r\n     <g id=\"line2d_30\">\r\n      <g>\r\n       <use style=\"stroke:#000000;stroke-width:0.8;\" x=\"263.254412\" xlink:href=\"#mad34335dbb\" y=\"133.42342\"/>\r\n      </g>\r\n     </g>\r\n     <g id=\"text_30\">\r\n      <!-- 20 -->\r\n      <g transform=\"translate(243.529412 137.222639)scale(0.1 -0.1)\">\r\n       <use xlink:href=\"#DejaVuSans-50\"/>\r\n       <use x=\"63.623047\" xlink:href=\"#DejaVuSans-48\"/>\r\n      </g>\r\n     </g>\r\n    </g>\r\n   </g>\r\n   <g id=\"patch_28\">\r\n    <path d=\"M 263.254412 150.553673 \r\nL 263.254412 86.600731 \r\n\" style=\"fill:none;stroke:#000000;stroke-linecap:square;stroke-linejoin:miter;stroke-width:0.8;\"/>\r\n   </g>\r\n   <g id=\"patch_29\">\r\n    <path d=\"M 327.207353 150.553673 \r\nL 327.207353 86.600731 \r\n\" style=\"fill:none;stroke:#000000;stroke-linecap:square;stroke-linejoin:miter;stroke-width:0.8;\"/>\r\n   </g>\r\n   <g id=\"patch_30\">\r\n    <path d=\"M 263.254412 150.553673 \r\nL 327.207353 150.553673 \r\n\" style=\"fill:none;stroke:#000000;stroke-linecap:square;stroke-linejoin:miter;stroke-width:0.8;\"/>\r\n   </g>\r\n   <g id=\"patch_31\">\r\n    <path d=\"M 263.254412 86.600731 \r\nL 327.207353 86.600731 \r\n\" style=\"fill:none;stroke:#000000;stroke-linecap:square;stroke-linejoin:miter;stroke-width:0.8;\"/>\r\n   </g>\r\n  </g>\r\n </g>\r\n <defs>\r\n  <clipPath id=\"p490c8e1561\">\r\n   <rect height=\"63.952941\" width=\"63.952941\" x=\"26.925\" y=\"9.857202\"/>\r\n  </clipPath>\r\n  <clipPath id=\"p71a7dc7ea8\">\r\n   <rect height=\"63.952941\" width=\"63.952941\" x=\"145.089706\" y=\"9.857202\"/>\r\n  </clipPath>\r\n  <clipPath id=\"pc0043df49c\">\r\n   <rect height=\"63.952941\" width=\"63.952941\" x=\"263.254412\" y=\"9.857202\"/>\r\n  </clipPath>\r\n  <clipPath id=\"pb81218f8e0\">\r\n   <rect height=\"63.952941\" width=\"63.952941\" x=\"26.925\" y=\"86.600731\"/>\r\n  </clipPath>\r\n  <clipPath id=\"pb024be354e\">\r\n   <rect height=\"63.952941\" width=\"63.952941\" x=\"145.089706\" y=\"86.600731\"/>\r\n  </clipPath>\r\n  <clipPath id=\"pd87bb4e6b5\">\r\n   <rect height=\"63.952941\" width=\"63.952941\" x=\"263.254412\" y=\"86.600731\"/>\r\n  </clipPath>\r\n </defs>\r\n</svg>\r\n",
      "text/plain": "<Figure size 432x288 with 6 Axes>"
     },
     "metadata": {
      "needs_background": "light"
     },
     "output_type": "display_data"
    }
   ],
   "source": [
    "import matplotlib.pyplot as plt\n",
    "\n",
    "#plot 6 imagini, note subplot argument sunt nrows,ncols, index\n",
    "#setam cloare map pe culorea gri deoarece setul de date al imagini este la scara gri \n",
    "plt.subplot(331)\n",
    "random_num = np.random.randint(0, len(x_train))\n",
    "plt.imshow(x_train[random_num], cmap=plt.get_cmap('gray'))\n",
    "\n",
    "plt.subplot(332)\n",
    "random_num = np.random.randint(0, len(x_train))\n",
    "plt.imshow(x_train[random_num], cmap=plt.get_cmap('gray'))\n",
    "\n",
    "plt.subplot(333)\n",
    "random_num = np.random.randint(0, len(x_train))\n",
    "plt.imshow(x_train[random_num], cmap=plt.get_cmap('gray'))\n",
    "\n",
    "plt.subplot(334)\n",
    "random_num = np.random.randint(0, len(x_train))\n",
    "plt.imshow(x_train[random_num], cmap=plt.get_cmap('gray'))\n",
    "\n",
    "plt.subplot(335)\n",
    "random_num = np.random.randint(0, len(x_train))\n",
    "plt.imshow(x_train[random_num], cmap=plt.get_cmap('gray'))\n",
    "\n",
    "plt.subplot(336)\n",
    "random_num = np.random.randint(0, len(x_train))\n",
    "plt.imshow(x_train[random_num], cmap=plt.get_cmap('gray'))\n",
    "\n",
    "#Afisare plots\n",
    "plt.show()\n"
   ]
  },
  {
   "cell_type": "code",
   "execution_count": 38,
   "metadata": {},
   "outputs": [
    {
     "name": "stdout",
     "output_type": "stream",
     "text": "x_train shape: (60000, 28, 28, 1)\n60000 train samples\n10000 test samples\nNumber of Classes: 10\nModel: \"sequential_7\"\n_________________________________________________________________\nLayer (type)                 Output Shape              Param #   \n=================================================================\nconv2d_13 (Conv2D)           (None, 26, 26, 32)        320       \n_________________________________________________________________\nbatch_normalization_19 (Batc (None, 26, 26, 32)        128       \n_________________________________________________________________\nconv2d_14 (Conv2D)           (None, 24, 24, 64)        18496     \n_________________________________________________________________\nbatch_normalization_20 (Batc (None, 24, 24, 64)        256       \n_________________________________________________________________\nmax_pooling2d_7 (MaxPooling2 (None, 12, 12, 64)        0         \n_________________________________________________________________\ndropout_13 (Dropout)         (None, 12, 12, 64)        0         \n_________________________________________________________________\nflatten_7 (Flatten)          (None, 9216)              0         \n_________________________________________________________________\ndense_13 (Dense)             (None, 128)               1179776   \n_________________________________________________________________\nbatch_normalization_21 (Batc (None, 128)               512       \n_________________________________________________________________\ndropout_14 (Dropout)         (None, 128)               0         \n_________________________________________________________________\ndense_14 (Dense)             (None, 10)                1290      \n=================================================================\nTotal params: 1,200,778\nTrainable params: 1,200,330\nNon-trainable params: 448\n_________________________________________________________________\nNone\n"
    }
   ],
   "source": [
    "import keras\n",
    "from keras.datasets import mnist\n",
    "from keras.utils import np_utils\n",
    "from keras.models import Sequential\n",
    "from keras.layers import Dense, Dropout, Flatten, Conv2D, MaxPooling2D, BatchNormalization\n",
    "from keras import backend as k\n",
    "\n",
    "#parametri de instruire\n",
    "batch_size = 128\n",
    "epochs = 10\n",
    "\n",
    "#Stocare numerlor in randuri si coloane\n",
    "img_rows = x_train[0].shape[0]\n",
    "img_cols = x_train[1].shape[0]\n",
    "\n",
    "#formateaza setul de date intro forma necesara lui keras\n",
    "#ne trebuie sa adugam a 4 dimensiun catre baza de date shimband \n",
    "#forma originala a imagini de la (60000,28,28) catre (60000,28,28,1)\n",
    "x_train = x_train.reshape(x_train.shape[0], img_rows, img_cols, 1)\n",
    "x_test = x_test.reshape(x_test.shape[0], img_rows, img_cols, 1)\n",
    "\n",
    "#Stocare formei/shape unei singure imagini\n",
    "input_shape = (img_rows, img_cols, 1)\n",
    "\n",
    "#schimbarea tipului de  imagine in float32\n",
    "x_train = x_train.astype('float32')\n",
    "x_test = x_test.astype('float32')\n",
    "\n",
    "#Normalizarea si schimbarea range de  la (0-255)la (0-1)\n",
    "x_train /=255\n",
    "x_test /=255\n",
    "\n",
    "print('x_train shape:', x_train.shape)\n",
    "print(x_train.shape[0], 'train samples')\n",
    "print(x_test.shape[0], 'test samples')\n",
    "\n",
    "#one hot encode output\n",
    "y_train = np_utils.to_categorical(y_train)\n",
    "y_test = np_utils.to_categorical(y_test)\n",
    "\n",
    "# Let's count the number columns in our hot encoded matrix \n",
    "print (\"Number of Classes: \" + str(y_test.shape[1]))\n",
    "\n",
    "\n",
    "num_classes = y_test.shape[1]\n",
    "num_pixels = x_train.shape[1] * x_train.shape[2]\n",
    "\n",
    "#create model\n",
    "model = Sequential()\n",
    "\n",
    "model.add(Conv2D(32, (3,3), activation='relu', input_shape=input_shape))\n",
    "model.add(BatchNormalization())\n",
    "\n",
    "model.add(Conv2D(64,(3,3), activation='relu'))\n",
    "model.add(BatchNormalization())\n",
    "\n",
    "model.add(MaxPooling2D((2,2)))\n",
    "model.add(Dropout(0.25))\n",
    "\n",
    "model.add(Flatten())\n",
    "model.add(Dense(128, activation='relu'))\n",
    "model.add(BatchNormalization())\n",
    "\n",
    "model.add(Dropout(0.5))\n",
    "model.add(Dense(num_classes, activation='softmax'))\n",
    "\n",
    "#complie\n",
    "model.compile(keras.optimizers.Adadelta(), 'categorical_crossentropy', ['accuracy'])\n",
    "\n",
    "print(model.summary())"
   ]
  },
  {
   "cell_type": "markdown",
   "execution_count": null,
   "metadata": {},
   "outputs": [],
   "source": [
    "# Instruire modelului"
   ]
  },
  {
   "cell_type": "code",
   "execution_count": 39,
   "metadata": {},
   "outputs": [
    {
     "name": "stdout",
     "output_type": "stream",
     "text": "Train on 60000 samples, validate on 10000 samples\nEpoch 1/10\n60000/60000 [==============================] - 15s 244us/step - loss: 0.4436 - accuracy: 0.8473 - val_loss: 2.0415 - val_accuracy: 0.4554\nEpoch 2/10\n60000/60000 [==============================] - 13s 221us/step - loss: 0.2790 - accuracy: 0.9021 - val_loss: 0.2515 - val_accuracy: 0.9083\nEpoch 3/10\n60000/60000 [==============================] - 13s 223us/step - loss: 0.2361 - accuracy: 0.9160 - val_loss: 0.2419 - val_accuracy: 0.9138\nEpoch 4/10\n60000/60000 [==============================] - 13s 224us/step - loss: 0.2065 - accuracy: 0.9258 - val_loss: 0.2620 - val_accuracy: 0.9083\nEpoch 5/10\n60000/60000 [==============================] - 13s 224us/step - loss: 0.1884 - accuracy: 0.9322 - val_loss: 0.2451 - val_accuracy: 0.9131\nEpoch 6/10\n60000/60000 [==============================] - 14s 225us/step - loss: 0.1688 - accuracy: 0.9395 - val_loss: 0.2133 - val_accuracy: 0.9273\nEpoch 7/10\n60000/60000 [==============================] - 13s 224us/step - loss: 0.1573 - accuracy: 0.9432 - val_loss: 0.2339 - val_accuracy: 0.9172\nEpoch 8/10\n60000/60000 [==============================] - 14s 226us/step - loss: 0.1428 - accuracy: 0.9488 - val_loss: 0.2596 - val_accuracy: 0.9138\nEpoch 9/10\n60000/60000 [==============================] - 14s 226us/step - loss: 0.1347 - accuracy: 0.9502 - val_loss: 0.2531 - val_accuracy: 0.9218\nEpoch 10/10\n60000/60000 [==============================] - 14s 226us/step - loss: 0.1248 - accuracy: 0.9549 - val_loss: 0.2333 - val_accuracy: 0.9232\nTest loss:  0.23325220511555672\nTest accuracy:  0.9232000112533569\n"
    }
   ],
   "source": [
    "history = model.fit(x_train, y_train,\n",
    "          batch_size=batch_size,\n",
    "          epochs=epochs,\n",
    "          verbose=1,\n",
    "          validation_data=(x_test, y_test)\n",
    "\n",
    ")\n",
    "\n",
    "#Evaluarea performantei modelului\n",
    "score = model.evaluate(x_test, y_test,verbose=0)\n",
    "print('Test loss: ', score[0])\n",
    "print(\"Test accuracy: \", score[1])"
   ]
  },
  {
   "cell_type": "markdown",
   "execution_count": null,
   "metadata": {},
   "outputs": [],
   "source": [
    "# Testam modelul"
   ]
  },
  {
   "cell_type": "code",
   "execution_count": 40,
   "metadata": {},
   "outputs": [],
   "source": [
    "import cv2\n",
    "import numpy as np\n",
    "\n",
    "def getLabel(input_class):\n",
    "    number = int(input_class)\n",
    "    if number == 0:\n",
    "        return 'T-shirt/top'\n",
    "    if number == 1:\n",
    "        return 'Trouser'\n",
    "    if number == 2:\n",
    "        return 'Pullover'\n",
    "    if number == 3:\n",
    "        return \"Dress\"\n",
    "    if number == 4:\n",
    "        return \"Coat\"\n",
    "    if number == 5:\n",
    "        return \"Sandal\"\n",
    "    if number == 6:\n",
    "        return \"Shirt\"\n",
    "    if number == 7:\n",
    "        return \"Sneaker\"\n",
    "    if number == 8:\n",
    "        return \"Bag\"\n",
    "    if number == 9:\n",
    "        return \"Ankle boot\"\n",
    "\n",
    "def draw_test(name, pred, actual, input_im):\n",
    "    BLACK =[0, 0, 0]\n",
    "\n",
    "    res = getLabel(pred)\n",
    "    actual = getLabel(actual)\n",
    "    expanded_image = cv2.copyMakeBorder(input_im, 0,0,0, 4*imageL.shape[0], cv2.BORDER_CONSTANT, value=BLACK)\n",
    "    expanded_image = cv2.cvtColor(expanded_image, cv2.COLOR_GRAY2BGR)\n",
    "    cv2.putText(expanded_image, \"Predicted -\" +str(res), (152, 70), cv2.FONT_HERSHEY_COMPLEX_SMALL, 1, (0,255,0), 1)\n",
    "    cv2.putText(expanded_image, \"Actual - \" + str(actual), (152, 90), cv2.FONT_HERSHEY_COMPLEX_SMALL, 1, (0,0,255), 1)\n",
    "    cv2.imshow(name, expanded_image)\n",
    "\n",
    "for i in range(0,10):\n",
    "    rand = np.random.randint(0, len(x_test))\n",
    "    input_im = x_test[rand]\n",
    "    actual = y_test[rand].argmax(axis=0)\n",
    "    imageL = cv2.resize(input_im, None, fx=4, fy=4, interpolation=cv2.INTER_CUBIC)\n",
    "    input_im = input_im.reshape(1, 28,28, 1)\n",
    "\n",
    "    #Predictia\n",
    "    res = str(model.predict_classes(input_im, 1, verbose=0)[0])\n",
    "    draw_test(\"Prediction\", res, actual, imageL)\n",
    "    cv2.waitKey(0)\n",
    "\n",
    "cv2.destroyAllWindows()    "
   ]
  },
  {
   "cell_type": "markdown",
   "execution_count": null,
   "metadata": {},
   "outputs": [],
   "source": [
    "# R"
   ]
  },
  {
   "cell_type": "markdown",
   "execution_count": null,
   "metadata": {},
   "outputs": [],
   "source": [
    "# E"
   ]
  }
 ]
}